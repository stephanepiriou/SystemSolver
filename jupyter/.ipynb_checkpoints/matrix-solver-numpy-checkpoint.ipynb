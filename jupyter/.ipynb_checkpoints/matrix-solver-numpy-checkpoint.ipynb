{
 "cells": [
  {
   "cell_type": "markdown",
   "metadata": {},
   "source": [
    "## 1 Imports"
   ]
  },
  {
   "cell_type": "code",
   "execution_count": 33,
   "metadata": {
    "cell_style": "center"
   },
   "outputs": [],
   "source": [
    "import fcntl\n",
    "import time\n",
    "import random\n",
    "import struct\n",
    "import sys\n",
    "import termios\n",
    "import string\n",
    "import os\n",
    "from sympy import *\n",
    "from colors import *\n",
    "from IPython.display import display\n",
    "import ipywidgets as widgets\n",
    "import numpy as np\n",
    "from numpy.linalg import inv\n",
    "from pyfiglet import figlet_format"
   ]
  },
  {
   "cell_type": "markdown",
   "metadata": {},
   "source": [
    "## 2 Functions"
   ]
  },
  {
   "cell_type": "code",
   "execution_count": 2,
   "metadata": {},
   "outputs": [],
   "source": [
    "def printEquations(matrice_A, matrice_B, nbrEquation, nbrUnknowns, unknowns_X):\n",
    "    for x in range(0, nbrEquation):\n",
    "        equation = 'Equation ' + str(x + 1) + ' : '\n",
    "        for y in range(0, nbrUnknowns):\n",
    "            if y != nbrUnknowns - 1:\n",
    "                equation = equation + str(matrice_A[x][y]) + '' +  unknowns_X[y] + ' + '\n",
    "            else:\n",
    "                equation = equation + str(matrice_A[x][y]) + '' + unknowns_X[y]  + ' = '\n",
    "        equation = equation + str(matrice_B[x])\n",
    "        print(color(equation, fg='blue'))\n",
    "\n",
    "        \n",
    "def formatEquations(matrice_A, matrice_B,nbrUnknowns, unknowns_X, equationNbr):\n",
    "    equation = ''\n",
    "    x = equationNbr\n",
    "    for y in range(0, nbrUnknowns):\n",
    "        if y == 0:\n",
    "            if matrice_A[x][y] > 0: \n",
    "                equation = str(matrice_A[x][y]) + '*' + unknowns_X[y]\n",
    "            elif matrice_A[x][y] < 0: \n",
    "                equation = '-' + str(matrice_A[x][y]) + '*' + unknowns_X[y]\n",
    "            elif matrice_A[x][y] == 0: \n",
    "                continue\n",
    "        elif y > 0 and y < nbrUnknowns :\n",
    "            if matrice_A[x][y] > 0: \n",
    "                equation = equation + '+' +str(matrice_A[x][y]) + '*' + unknowns_X[y]\n",
    "            elif matrice_A[x][y] < 0: \n",
    "                equation = equation + '-' +str(matrice_A[x][y]) + '*' + unknowns_X[y] \n",
    "            elif matrice_A[x][y] == 0:\n",
    "                continue\n",
    "    if matrice_B[x] > 0: \n",
    "        equation = equation + '-' + str(matrice_B[x])\n",
    "    elif matrice_B[x] < 0: \n",
    "        equation = +equation + '+' + str(matrice_B[x])\n",
    "    return equation"
   ]
  },
  {
   "cell_type": "markdown",
   "metadata": {},
   "source": [
    "## 3 Declarations"
   ]
  },
  {
   "cell_type": "code",
   "execution_count": 3,
   "metadata": {},
   "outputs": [],
   "source": [
    "# Declaring the variables of the problem\n",
    "matrice_B = []  # Matrix to the right\n",
    "const_possible_unknowns = ['x', 'y', 'z', 'w', 'v', 'u']  # Solve equation system with 6 potentialy unknowns variables\n",
    "unknowns_X = []  # Keep here the effective unknowns\n",
    "\n",
    "# Declaring the variables containing the user inputs\n",
    "nbrEquation = 0\n",
    "nbrUnknowns = 0\n",
    "leftFormulas = []  # Array of array Containing the left side of equation\n",
    "rightAnswer = []"
   ]
  },
  {
   "cell_type": "markdown",
   "metadata": {},
   "source": [
    "## 4 Input : nbrEquations & nbrVariables"
   ]
  },
  {
   "cell_type": "code",
   "execution_count": 4,
   "metadata": {},
   "outputs": [
    {
     "name": "stdout",
     "output_type": "stream",
     "text": [
      "\u001b[31mCombien y-a-t-il d'equation dans le système ?\u001b[0m\n"
     ]
    },
    {
     "data": {
      "application/vnd.jupyter.widget-view+json": {
       "model_id": "9cd8fe019a3842eda9d9f00a012aff14",
       "version_major": 2,
       "version_minor": 0
      },
      "text/plain": [
       "IntText(value=0, description='Nbr Equations :')"
      ]
     },
     "metadata": {},
     "output_type": "display_data"
    },
    {
     "name": "stdout",
     "output_type": "stream",
     "text": [
      "\n",
      "\u001b[31mCombien y-a-t-il de variable dans le système ?\u001b[0m\n"
     ]
    },
    {
     "data": {
      "application/vnd.jupyter.widget-view+json": {
       "model_id": "4ca9100f34f0497394ecbc925c391e07",
       "version_major": 2,
       "version_minor": 0
      },
      "text/plain": [
       "IntText(value=0, description='NbrVariable :')"
      ]
     },
     "metadata": {},
     "output_type": "display_data"
    },
    {
     "name": "stdout",
     "output_type": "stream",
     "text": [
      "\n"
     ]
    }
   ],
   "source": [
    "# Ask for the number of equations\n",
    "print(color('Combien y-a-t-il d\\'equation dans le système ?', fg='red'))\n",
    "#nbrEquation = int(input())\n",
    "\n",
    "nbrEquation = widgets.IntText(\n",
    "    value=0,\n",
    "    description='Nbr Equations :',\n",
    "    disabled=False\n",
    ")\n",
    "display(nbrEquation)\n",
    "print('')\n",
    "# Ask for the number of Unknowns\n",
    "print(color(\"Combien y-a-t-il de variable dans le système ?\", fg='red'))\n",
    "#nbrUnknowns = int(input())\n",
    "\n",
    "nbrUnknowns = widgets.IntText(\n",
    "    value=0,\n",
    "    description='NbrVariable :',\n",
    "    disabled=False\n",
    ")\n",
    "display(nbrUnknowns)\n",
    "print('')"
   ]
  },
  {
   "cell_type": "markdown",
   "metadata": {},
   "source": [
    "## 5 Input : Coeficient Values "
   ]
  },
  {
   "cell_type": "code",
   "execution_count": 5,
   "metadata": {
    "collapsed": true
   },
   "outputs": [
    {
     "name": "stdout",
     "output_type": "stream",
     "text": [
      "\u001b[34mIl y a 2 equations dans le système.\u001b[0m\n",
      "\u001b[34mIl y a 2 variable(s) dans le système d'équation.\u001b[0m\n",
      "\u001b[34mx, y font partie des inconnues présentes dans le système.\u001b[0m\n",
      " \n",
      "\u001b[33;4mVeuillez completer l'equation 1:\u001b[0m\n",
      "\u001b[31mQuel est le coeficient de x ?\u001b[0m\n"
     ]
    },
    {
     "data": {
      "application/vnd.jupyter.widget-view+json": {
       "model_id": "407b35e7475042fca010e0c991f1890d",
       "version_major": 2,
       "version_minor": 0
      },
      "text/plain": [
       "IntText(value=0, description='x (Eq 1) :')"
      ]
     },
     "metadata": {},
     "output_type": "display_data"
    },
    {
     "name": "stdout",
     "output_type": "stream",
     "text": [
      "\u001b[31mQuel est le coeficient de y ?\u001b[0m\n"
     ]
    },
    {
     "data": {
      "application/vnd.jupyter.widget-view+json": {
       "model_id": "a2dab0455da8434d9935a7bc02284ebd",
       "version_major": 2,
       "version_minor": 0
      },
      "text/plain": [
       "IntText(value=0, description='y (Eq 1) :')"
      ]
     },
     "metadata": {},
     "output_type": "display_data"
    },
    {
     "name": "stdout",
     "output_type": "stream",
     "text": [
      "\u001b[31mQuel est le résultat de cette équation ?\u001b[0m\n"
     ]
    },
    {
     "data": {
      "application/vnd.jupyter.widget-view+json": {
       "model_id": "2a33e7773c9c42019241bee9783d696f",
       "version_major": 2,
       "version_minor": 0
      },
      "text/plain": [
       "IntText(value=0, description='Résultat (Eq 1) :')"
      ]
     },
     "metadata": {},
     "output_type": "display_data"
    },
    {
     "name": "stdout",
     "output_type": "stream",
     "text": [
      " \n",
      "\u001b[33;4mVeuillez completer l'equation 2:\u001b[0m\n",
      "\u001b[31mQuel est le coeficient de x ?\u001b[0m\n"
     ]
    },
    {
     "data": {
      "application/vnd.jupyter.widget-view+json": {
       "model_id": "830a272577884342977ae89cf15aafac",
       "version_major": 2,
       "version_minor": 0
      },
      "text/plain": [
       "IntText(value=0, description='x (Eq 2) :')"
      ]
     },
     "metadata": {},
     "output_type": "display_data"
    },
    {
     "name": "stdout",
     "output_type": "stream",
     "text": [
      "\u001b[31mQuel est le coeficient de y ?\u001b[0m\n"
     ]
    },
    {
     "data": {
      "application/vnd.jupyter.widget-view+json": {
       "model_id": "b302dce474cf42a58cefe3d89a5bd61e",
       "version_major": 2,
       "version_minor": 0
      },
      "text/plain": [
       "IntText(value=0, description='y (Eq 2) :')"
      ]
     },
     "metadata": {},
     "output_type": "display_data"
    },
    {
     "name": "stdout",
     "output_type": "stream",
     "text": [
      "\u001b[31mQuel est le résultat de cette équation ?\u001b[0m\n"
     ]
    },
    {
     "data": {
      "application/vnd.jupyter.widget-view+json": {
       "model_id": "d324fa2f1fbf45b795f7f3120d915422",
       "version_major": 2,
       "version_minor": 0
      },
      "text/plain": [
       "IntText(value=0, description='Résultat (Eq 2) :')"
      ]
     },
     "metadata": {},
     "output_type": "display_data"
    },
    {
     "name": "stdout",
     "output_type": "stream",
     "text": [
      " \n"
     ]
    }
   ],
   "source": [
    "# Matrix initialisation (because there is not such a thing as dynamic array in python ?\n",
    "matrice_A = [[0 for x in range(nbrUnknowns.value)] for y in range(nbrEquation.value)]   # Matrix to the left\n",
    "matrice_A_input = [[0 for x in range(nbrUnknowns.value)] for y in range(nbrEquation.value)]\n",
    "matrice_B = [0 for x in range(nbrEquation.value)] # Array (single column matrix)\n",
    "matrice_B_input = [0 for x in range(nbrEquation.value)]\n",
    "\n",
    "# Resume number of variables and equations\n",
    "print(color('Il y a '+ str(nbrEquation.value) +' equations dans le système.', fg='blue'))\n",
    "\n",
    "# We assign a variables according to the number selected \n",
    "unknowns_X =[]\n",
    "string_unknowns = ''\n",
    "for x in range(0, nbrUnknowns.value):\n",
    "    unknowns_X.append(const_possible_unknowns[x])\n",
    "    if nbrUnknowns.value == 1 : \n",
    "        string_unknowns = unknowns_X[x] + \" fait partie des inconnues présentes dans le système.\"\n",
    "        break;\n",
    "    else:\n",
    "        if x < nbrUnknowns.value -1 :\n",
    "            string_unknowns = string_unknowns + unknowns_X[x] + ', '\n",
    "        else :\n",
    "            string_unknowns = string_unknowns + unknowns_X[x] + \" font partie des inconnues présentes dans le système.\"\n",
    "\n",
    "# Print number of variable + the ones selected\n",
    "print(color(\"Il y a \" + str(len(unknowns_X)) + \" variable(s) dans le système d'équation.\", fg='blue'))\n",
    "print(color(string_unknowns, fg='blue'))\n",
    "time.sleep(5)\n",
    "print(' ')\n",
    "\n",
    "# Enter user input for definition of equation\n",
    "for x in range(0, nbrEquation.value):\n",
    "    print(color('Veuillez completer l\\'equation ' + str(x + 1) + ':', fg='yellow', style='underline'))\n",
    "    time.sleep(5)\n",
    "    for y in range(0, nbrUnknowns.value):\n",
    "        print(color('Quel est le coeficient de ' + unknowns_X[y] + ' ?', fg='red'))\n",
    "        \n",
    "        matrice_A_input[x][y] = widgets.IntText(\n",
    "            value=0,\n",
    "            description= unknowns_X[y] + ' (Eq ' + str(x+1) + ') :',\n",
    "            disabled=False\n",
    "            )\n",
    "        display(matrice_A_input[x][y])\n",
    "       \n",
    "    print(color('Quel est le résultat de cette équation ?', fg='red'))\n",
    "    matrice_B_input[x] = widgets.IntText(\n",
    "        value=0,\n",
    "        description= 'Résultat (Eq ' + str(x+1) + ') :',\n",
    "        disabled=False\n",
    "    )\n",
    "    display(matrice_B_input[x])\n",
    "    print(' ')\n",
    "\n",
    "    #matrice_B[x] = int(input())"
   ]
  },
  {
   "cell_type": "markdown",
   "metadata": {},
   "source": [
    "## 6 Output : Equation et égalité"
   ]
  },
  {
   "cell_type": "code",
   "execution_count": 35,
   "metadata": {},
   "outputs": [
    {
     "name": "stdout",
     "output_type": "stream",
     "text": [
      "\u001b[34mEquation 1 : 1x + 1y = 58\u001b[0m\n",
      "\u001b[34mEquation 2 : 4x + 2y = 160\u001b[0m\n",
      "\n",
      "\u001b[31m ==>\u001b[0m\n",
      "\n",
      "\u001b[34mA\u001b[0m\u001b[31m = \u001b[0m\u001b[34m[[1 1]\n",
      " [4 2]]\u001b[0m\n",
      "\u001b[34mB\u001b[0m\u001b[31m = \u001b[0m\u001b[34m[ 58 160]\u001b[0m\n",
      "\u001b[34mX\u001b[0m\u001b[31m = \u001b[0m\u001b[34m['x' 'y']\u001b[0m\n",
      "\n",
      "\u001b[31m ==>\u001b[0m\n",
      "\n",
      "\u001b[34mAX=B\u001b[0m\n",
      "\n",
      "\u001b[31m <==>\u001b[0m\n",
      "\n",
      "\u001b[34m[[1 1]\n",
      " [4 2]]\u001b[0m\u001b[31m.\u001b[0m\u001b[34m['x' 'y']\u001b[0m\u001b[31m=\u001b[0m\u001b[34m[ 58 160]\u001b[0m\n"
     ]
    }
   ],
   "source": [
    "for x in range(0, nbrEquation.value):\n",
    "    for y in range(0, nbrUnknowns.value):\n",
    "        matrice_A[x][y] = matrice_A_input[x][y].value \n",
    "    matrice_B[x] = matrice_B_input[x].value\n",
    "\n",
    "#matrice_X =  [0 for x in range(nbrUnknowns.value)]\n",
    "#for x in range(nbrEquation.value):\n",
    "#    matrice_X.append\n",
    "    \n",
    "printEquations(matrice_A, matrice_B, nbrEquation.value, nbrUnknowns.value, unknowns_X)\n",
    "print()\n",
    "print(color(\" ==>\", fg='red'))\n",
    "print()\n",
    "matrice_A = np.array(matrice_A, dtype='int')\n",
    "matrice_B = np.array(matrice_B, dtype='int')\n",
    "unknowns_X = np.array(unknowns_X, dtype='str')\n",
    "print(color(\"A\", fg='blue')+ color(\" = \", fg='red') + color(str(matrice_A), fg='blue'))\n",
    "print(color(\"B\", fg='blue')+ color(\" = \", fg='red') + color(str(matrice_B), fg='blue'))\n",
    "print(color(\"X\", fg='blue')+ color(\" = \", fg='red') + color(str(unknowns_X), fg='blue'))\n",
    "print()\n",
    "print(color(\" ==>\", fg='red'))\n",
    "print()\n",
    "print(color(\"AX=B\", fg='blue'))\n",
    "print()\n",
    "print(color(\" <==>\", fg='red'))\n",
    "print()\n",
    "print(color(str(matrice_A), fg='blue') + color(\".\", fg='red') + color(str(unknowns_X), fg='blue')+ color(\" = \", fg='red')+ color(str(matrice_B), fg='blue') )"
   ]
  },
  {
   "cell_type": "markdown",
   "metadata": {},
   "source": [
    "## 7 Inverse, Simplification et solution version 1"
   ]
  },
  {
   "cell_type": "code",
   "execution_count": 45,
   "metadata": {},
   "outputs": [
    {
     "name": "stdout",
     "output_type": "stream",
     "text": [
      "\u001b[34mSimplification du coeficient de X...(A)\u001b[0m\n",
      "\u001b[34mMultiplication de AX par l'inverse de A\u001b[0m\n",
      "\u001b[34minv(A).A.X\u001b[0m\u001b[31m=\u001b[0m\u001b[34minv(A).B\u001b[0m\n",
      "\n",
      "\u001b[34mInverse de A\u001b[0m\n",
      "\u001b[34minv(A)\u001b[0m\u001b[31m = \u001b[0m\u001b[34m[[-1.   0.5]\n",
      " [ 2.  -0.5]]\u001b[0m\n",
      "\u001b[34mX \u001b[0m\u001b[31m = \u001b[0m\u001b[34m[22. 36.]\u001b[0m\n",
      "\n",
      "\u001b[34mSolution\u001b[0m\n",
      "\u001b[34mx = 22.0\u001b[0m\n",
      "\u001b[34my = 36.0\u001b[0m\n"
     ]
    }
   ],
   "source": [
    "print(color(\"Simplification du coeficient de X...(A)\", fg=\"blue\"))\n",
    "print(color(\"Multiplication de AX par l'inverse de A\", fg=\"blue\"))\n",
    "\n",
    "\n",
    "# Matrice inverse\n",
    "matrice_A_inv = inv(matrice_A)\n",
    "\n",
    "print(color(\"inv(A).A.X\", fg='blue') + color(\"=\", fg='red') + color(\"inv(A).B\", fg='blue') )\n",
    "print()\n",
    "print(color(\"Inverse de A\", fg='blue'))\n",
    "print(color(\"inv(A)\", fg='blue') + color(\" = \", fg='red') + color(str(matrice_A_inv), fg='blue'))\n",
    "\n",
    "# Multiplication inverse(A).B\n",
    "inv_A_muliplie_mat_b = matrice_A_inv.dot(matrice_B)\n",
    "\n",
    "print(color(\"X \", fg='blue') + color(\" = \", fg=\"red\") + color(str(inv_A_muliplie_mat_b), fg=\"blue\"))\n",
    "print()\n",
    "print(color(\"Solution\", fg='blue'))\n",
    "for i in range(0,nbrUnknowns.value):\n",
    "    print(color(str(unknowns_X[i]) + \" = \" + str(inv_A_muliplie_mat_b[i]), fg='blue'))"
   ]
  },
  {
   "cell_type": "markdown",
   "metadata": {},
   "source": [
    "## 8 Output : Solution version 2"
   ]
  },
  {
   "cell_type": "code",
   "execution_count": 123,
   "metadata": {},
   "outputs": [
    {
     "name": "stdout",
     "output_type": "stream",
     "text": [
      "\u001b[34mx = 22.0\u001b[0m\n",
      "\u001b[34my = 36.0\u001b[0m\n"
     ]
    }
   ],
   "source": [
    "# Cast to numpy arrays of int\n",
    "soluce = np.linalg.solve(matrice_A, matrice_B)   # <== C'EST ICI QUE CA SE PASSE ! Mouahaha...\n",
    "for i in range(0,nbrUnknowns.value):\n",
    "    print(color(str(unknowns_X[i]) + \" = \" + str(soluce[i]), fg='blue'))\n"
   ]
  }
 ],
 "metadata": {
  "hide_input": false,
  "kernelspec": {
   "display_name": "Python 3",
   "language": "python",
   "name": "python3"
  },
  "language_info": {
   "codemirror_mode": {
    "name": "ipython",
    "version": 3
   },
   "file_extension": ".py",
   "mimetype": "text/x-python",
   "name": "python",
   "nbconvert_exporter": "python",
   "pygments_lexer": "ipython3",
   "version": "3.6.5"
  },
  "notify_time": "5",
  "toc": {
   "nav_menu": {},
   "number_sections": true,
   "sideBar": true,
   "skip_h1_title": false,
   "toc_cell": false,
   "toc_position": {},
   "toc_section_display": "none",
   "toc_window_display": true
  },
  "varInspector": {
   "cols": {
    "lenName": 16,
    "lenType": 16,
    "lenVar": 40
   },
   "kernels_config": {
    "python": {
     "delete_cmd_postfix": "",
     "delete_cmd_prefix": "del ",
     "library": "var_list.py",
     "varRefreshCmd": "print(var_dic_list())"
    },
    "r": {
     "delete_cmd_postfix": ") ",
     "delete_cmd_prefix": "rm(",
     "library": "var_list.r",
     "varRefreshCmd": "cat(var_dic_list()) "
    }
   },
   "types_to_exclude": [
    "module",
    "function",
    "builtin_function_or_method",
    "instance",
    "_Feature"
   ],
   "window_display": false
  }
 },
 "nbformat": 4,
 "nbformat_minor": 2
}
